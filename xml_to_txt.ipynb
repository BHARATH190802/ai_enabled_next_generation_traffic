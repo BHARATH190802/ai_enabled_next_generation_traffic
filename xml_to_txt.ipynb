{
  "nbformat": 4,
  "nbformat_minor": 0,
  "metadata": {
    "colab": {
      "provenance": [],
      "authorship_tag": "ABX9TyO9jfNNJdYSSsgl/WMqMNii",
      "include_colab_link": true
    },
    "kernelspec": {
      "name": "python3",
      "display_name": "Python 3"
    },
    "language_info": {
      "name": "python"
    }
  },
  "cells": [
    {
      "cell_type": "markdown",
      "metadata": {
        "id": "view-in-github",
        "colab_type": "text"
      },
      "source": [
        "<a href=\"https://colab.research.google.com/github/Arunkj203/trafficregulation/blob/main/xml_to_txt.ipynb\" target=\"_parent\"><img src=\"https://colab.research.google.com/assets/colab-badge.svg\" alt=\"Open In Colab\"/></a>"
      ]
    },
    {
      "cell_type": "code",
      "source": [
        "!unzip -q /content/dataset_xml.zip"
      ],
      "metadata": {
        "id": "tg2vU2DATQQq"
      },
      "execution_count": null,
      "outputs": []
    },
    {
      "cell_type": "code",
      "source": [
        "import xml.etree.ElementTree as ET \n",
        "import pickle \n",
        "import os \n",
        "from os import listdir, getcwd \n",
        "from os.path import join \n",
        "from pathlib import Path"
      ],
      "metadata": {
        "id": "rKn7MGOXRTF0"
      },
      "execution_count": null,
      "outputs": []
    },
    {
      "cell_type": "code",
      "source": [
        "classes = ['ambulance', 'army vehicle', 'auto rickshaw', 'bicycle', 'bus', 'car', 'garbagevan', 'human hauler', 'minibus', 'minivan', 'motorbike', 'pickup', 'policecar', 'rickshaw', 'scooter', 'suv', 'taxi', 'three wheelers (CNG)', 'truck', 'van', 'wheelbarrow']"
      ],
      "metadata": {
        "id": "LWo-KCh_RTIw"
      },
      "execution_count": null,
      "outputs": []
    },
    {
      "cell_type": "code",
      "source": [
        "sets=['train','val'] \n",
        "def convert(size, box): \n",
        "     dw = 1./(size[0]) \n",
        "     dh = 1./(size[1]) \n",
        "     x = (box[0] + box[1])/2.0 - 1 \n",
        "     y = (box[2] + box[3])/2.0 - 1 \n",
        "     w = box[1] - box[0] \n",
        "     h = box[3] - box[2] \n",
        "     x = x*dw \n",
        "     w = w*dw \n",
        "     y = y*dh \n",
        "     h = h*dh \n",
        "     return (x,y,w,h) \n",
        "  \n",
        "def convert_annotation(st,image_id): \n",
        "     in_file = open(\"/content/dataset_xml/labels/%s/%s.xml\"%(st,image_id)) \n",
        "     out_file = open(\"/content/dataset_xml/labels/%s_txt/%s.txt\"%(st,image_id), 'w') \n",
        "     tree=ET.parse(in_file) \n",
        "     root = tree.getroot() \n",
        "     size = root.find('size') \n",
        "     w = int(size.find('width').text) \n",
        "     h = int(size.find('height').text) \n",
        "  \n",
        "     for obj in root.iter('object'): \n",
        "         difficult = obj.find('difficult').text \n",
        "         cls = obj.find('name').text \n",
        "         if cls not in classes or int(difficult)==1: \n",
        "             continue \n",
        "         cls_id = classes.index(cls) \n",
        "         xmlbox = obj.find('bndbox') \n",
        "         b = (float(xmlbox.find('xmin').text), float(xmlbox.find('xmax').text), float(xmlbox.find('ymin').text), float(xmlbox.find('ymax').text)) \n",
        "         bb = convert((w,h), b) \n",
        "         out_file.write(str(cls_id) + \" \" + \" \".join([str(a) for a in bb]) + '\\n') \n",
        "  \n",
        "#wd = \"/content/dataset_xml/labels/\" \n",
        "#  if not os.path.exists('VOCdevkit/VOC%s/labels/'%(year)): \n",
        "#          os.makedirs('VOCdevkit/VOC%s/labels/'%(year)) \n",
        "    #  image_ids = open('/content/dataset_xml/labels/%s.txt'%(image_set)).read().strip().split() \n",
        "    #  list_file = open('%s.txt'%(image_set), 'w') \n",
        "#  list_file.write('%s/VOCdevkit/VOC%s/JPEGImages/%s.jpg\\n'%(wd, year, image_id))\n",
        "# list_file.close() \n",
        "\n",
        "\n",
        "for st in sets:\n",
        "  for i in os.listdir(\"/content/dataset_xml/labels/%s\"%st):\n",
        "         convert_annotation(st,Path(i).stem) \n",
        "         "
      ],
      "metadata": {
        "id": "jBPZBMcNRNSN"
      },
      "execution_count": null,
      "outputs": []
    },
    {
      "cell_type": "code",
      "source": [
        "!zip -r /content/labels.zip /content/dataset_xml/labels"
      ],
      "metadata": {
        "colab": {
          "base_uri": "https://localhost:8080/"
        },
        "id": "BzT8neb8Y42K",
        "outputId": "4991cd03-8aea-463d-c0bf-5aef111bf9b0"
      },
      "execution_count": null,
      "outputs": [
        {
          "output_type": "stream",
          "name": "stdout",
          "text": [
            "  adding: content/dataset_xml/labels/ (stored 0%)\n",
            "  adding: content/dataset_xml/labels/val_txt/ (stored 0%)\n",
            "  adding: content/dataset_xml/labels/val_txt/23.xml (deflated 58%)\n",
            "  adding: content/dataset_xml/labels/val_txt/28.xml (deflated 50%)\n",
            "  adding: content/dataset_xml/labels/val_txt/17.xml (deflated 60%)\n",
            "  adding: content/dataset_xml/labels/val_txt/21.xml (deflated 64%)\n",
            "  adding: content/dataset_xml/labels/val_txt/22.xml (deflated 58%)\n",
            "  adding: content/dataset_xml/labels/val_txt/16.xml (deflated 63%)\n",
            "  adding: content/dataset_xml/labels/val_txt/25.xml (deflated 64%)\n",
            "  adding: content/dataset_xml/labels/val_txt/19.xml (deflated 59%)\n",
            "  adding: content/dataset_xml/labels/val_txt/26.xml (deflated 71%)\n",
            "  adding: content/dataset_xml/labels/val_txt/18.xml (deflated 64%)\n",
            "  adding: content/dataset_xml/labels/val_txt/20.xml (deflated 42%)\n",
            "  adding: content/dataset_xml/labels/val_txt/24.xml (deflated 67%)\n",
            "  adding: content/dataset_xml/labels/val_txt/27.xml (deflated 50%)\n",
            "  adding: content/dataset_xml/labels/val_txt/30.xml (deflated 28%)\n",
            "  adding: content/dataset_xml/labels/val_txt/29.xml (deflated 31%)\n",
            "  adding: content/dataset_xml/labels/train/ (stored 0%)\n",
            "  adding: content/dataset_xml/labels/train/02.xml (deflated 89%)\n",
            "  adding: content/dataset_xml/labels/train/15.xml (deflated 71%)\n",
            "  adding: content/dataset_xml/labels/train/08.xml (deflated 90%)\n",
            "  adding: content/dataset_xml/labels/train/10.xml (deflated 89%)\n",
            "  adding: content/dataset_xml/labels/train/14.xml (deflated 77%)\n",
            "  adding: content/dataset_xml/labels/train/13.xml (deflated 76%)\n",
            "  adding: content/dataset_xml/labels/train/09.xml (deflated 88%)\n",
            "  adding: content/dataset_xml/labels/train/06.xml (deflated 83%)\n",
            "  adding: content/dataset_xml/labels/train/11.xml (deflated 84%)\n",
            "  adding: content/dataset_xml/labels/train/07.xml (deflated 91%)\n",
            "  adding: content/dataset_xml/labels/train/04.xml (deflated 85%)\n",
            "  adding: content/dataset_xml/labels/train/12.xml (deflated 78%)\n",
            "  adding: content/dataset_xml/labels/train/01.xml (deflated 89%)\n",
            "  adding: content/dataset_xml/labels/train/05.xml (deflated 89%)\n",
            "  adding: content/dataset_xml/labels/train/03.xml (deflated 75%)\n",
            "  adding: content/dataset_xml/labels/train_txt/ (stored 0%)\n",
            "  adding: content/dataset_xml/labels/train_txt/02.xml (deflated 75%)\n",
            "  adding: content/dataset_xml/labels/train_txt/15.xml (deflated 51%)\n",
            "  adding: content/dataset_xml/labels/train_txt/08.xml (deflated 70%)\n",
            "  adding: content/dataset_xml/labels/train_txt/10.xml (deflated 68%)\n",
            "  adding: content/dataset_xml/labels/train_txt/14.xml (deflated 60%)\n",
            "  adding: content/dataset_xml/labels/train_txt/13.xml (deflated 57%)\n",
            "  adding: content/dataset_xml/labels/train_txt/09.xml (deflated 75%)\n",
            "  adding: content/dataset_xml/labels/train_txt/06.xml (deflated 63%)\n",
            "  adding: content/dataset_xml/labels/train_txt/11.xml (deflated 64%)\n",
            "  adding: content/dataset_xml/labels/train_txt/07.xml (deflated 70%)\n",
            "  adding: content/dataset_xml/labels/train_txt/04.xml (deflated 64%)\n",
            "  adding: content/dataset_xml/labels/train_txt/12.xml (deflated 58%)\n",
            "  adding: content/dataset_xml/labels/train_txt/01.xml (deflated 74%)\n",
            "  adding: content/dataset_xml/labels/train_txt/05.xml (deflated 72%)\n",
            "  adding: content/dataset_xml/labels/train_txt/03.xml (deflated 64%)\n",
            "  adding: content/dataset_xml/labels/val/ (stored 0%)\n",
            "  adding: content/dataset_xml/labels/val/23.xml (deflated 79%)\n",
            "  adding: content/dataset_xml/labels/val/28.xml (deflated 66%)\n",
            "  adding: content/dataset_xml/labels/val/17.xml (deflated 79%)\n",
            "  adding: content/dataset_xml/labels/val/21.xml (deflated 86%)\n",
            "  adding: content/dataset_xml/labels/val/22.xml (deflated 79%)\n",
            "  adding: content/dataset_xml/labels/val/16.xml (deflated 83%)\n",
            "  adding: content/dataset_xml/labels/val/25.xml (deflated 77%)\n",
            "  adding: content/dataset_xml/labels/val/19.xml (deflated 78%)\n",
            "  adding: content/dataset_xml/labels/val/26.xml (deflated 82%)\n",
            "  adding: content/dataset_xml/labels/val/18.xml (deflated 83%)\n",
            "  adding: content/dataset_xml/labels/val/20.xml (deflated 61%)\n",
            "  adding: content/dataset_xml/labels/val/24.xml (deflated 88%)\n",
            "  adding: content/dataset_xml/labels/val/27.xml (deflated 61%)\n",
            "  adding: content/dataset_xml/labels/val/30.xml (deflated 51%)\n",
            "  adding: content/dataset_xml/labels/val/29.xml (deflated 51%)\n",
            "  adding: content/dataset_xml/labels/.ipynb_checkpoints/ (stored 0%)\n"
          ]
        }
      ]
    },
    {
      "cell_type": "code",
      "source": [
        "!rm -rf /content/dataset_xml/labels/train_txt"
      ],
      "metadata": {
        "id": "v9MLOh7mbgwf"
      },
      "execution_count": null,
      "outputs": []
    },
    {
      "cell_type": "code",
      "source": [
        "!rm -rf /content/dataset_xml/labels/val_txt"
      ],
      "metadata": {
        "id": "7jp6-8QCqRki"
      },
      "execution_count": null,
      "outputs": []
    },
    {
      "cell_type": "code",
      "source": [],
      "metadata": {
        "id": "pe30LaAlqWX8"
      },
      "execution_count": null,
      "outputs": []
    }
  ]
}